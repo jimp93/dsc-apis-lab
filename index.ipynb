{
 "cells": [
  {
   "cell_type": "markdown",
   "metadata": {},
   "source": [
    "# APIs - Cumulative Lab\n",
    "\n",
    "\n",
    "## Introduction \n",
    "\n",
    "We've seen how the Yelp API works and how to create basic visualizations using Folium. It's time to put those skills to work in order to create a working map! Taking things a step further, you'll also independently explore how to perform pagination in order to retrieve a full results set from the Yelp API.\n",
    "\n",
    "## Objectives\n",
    "\n",
    "You will be able to: \n",
    "\n",
    "* Practice using functions to organize your code\n",
    "* Use pagination to retrieve all results from an API query\n",
    "* Practice parsing data returned from an API query\n",
    "* Practice interpreting visualizations of a dataset\n",
    "* Create maps using Folium"
   ]
  },
  {
   "cell_type": "markdown",
   "metadata": {},
   "source": [
    "## Your Task: Query Yelp for All Businesses in a Category and Analyze the Results\n",
    "\n",
    "![restaurant counter with pizza](images/restaurant_counter.jpg)\n",
    "\n",
    "Photo by <a href=\"https://unsplash.com/@jordanmadrid?utm_source=unsplash&utm_medium=referral&utm_content=creditCopyText\">Jordan Madrid</a> on <a href=\"/s/photos/pizza-restaurant?utm_source=unsplash&utm_medium=referral&utm_content=creditCopyText\">Unsplash</a>"
   ]
  },
  {
   "cell_type": "markdown",
   "metadata": {},
   "source": [
    "### Overview\n",
    "\n",
    "You've now worked with some API calls, but we have yet to see how to retrieve a more complete dataset in a programmatic manner. In this lab, you will write a query of businesses on Yelp, then use *pagination* to retrieve all possible results for that query. Then you will create a summary of your findings, including a Folium map of the geographic locations of those businesses.\n",
    "\n",
    "### Technical Details\n",
    "\n",
    "Returning to the Yelp API, the [documentation](https://www.yelp.com/developers/documentation/v3/business_search) also provides us details regarding the **API limits**. These often include details about the number of requests a user is allowed to make within a specified time limit and the maximum number of results to be returned. In this case, we are told that any request has a **maximum of 50 results per request** and defaults to 20. Furthermore, any search will be limited to a **total of 1000 results**. To retrieve all 1000 of these results, we would have to page through the results piece by piece, retrieving 50 at a time. Processes such as these are often referred to as pagination.\n",
    "\n",
    "Also, be mindful of the **API** ***rate*** **limits**. You can only make **5000 requests per day** and are also can make requests too fast. Start prototyping small before running a loop that could be faulty. You can also use `time.sleep(n)` to add delays. For more details see https://www.yelp.com/developers/documentation/v3/rate_limiting.\n",
    "\n",
    "In this lab, you will define a search and then paginate over the results to retrieve all of the results. You'll then parse these responses as a list of dictionaries (for further exploration) and create a map using Folium to visualize the results geographically.\n",
    "\n",
    "### Requirements\n",
    "\n",
    "#### 1. Make the Initial Request\n",
    "\n",
    "Start by filling in your API key to make the initial request to the business search API. Investigate the structure of the response you get back and start figuring out how you will extract the relevant information.\n",
    "\n",
    "#### 2. Add Pagination\n",
    "\n",
    "Using loops and functions, collect the maximum number of results for your query from the API.\n",
    "\n",
    "#### 3. Perform Exploratory Analysis\n",
    "\n",
    "Interpret visualizations related to the price range, average rating, and number of reviews for all query results.\n",
    "\n",
    "#### 4. Create a Folium Map\n",
    "\n",
    "Using latitude and longitude data, plot the query results on an interactive map."
   ]
  },
  {
   "cell_type": "markdown",
   "metadata": {},
   "source": [
    "## 1. Make the Initial Request\n",
    "\n",
    "### Querying\n",
    "\n",
    "Start by making an initial request to the Yelp API. Your search must include at least 2 parameters: **term** and **location**. For example, you might search for pizza restaurants in NYC. The term and location is up to you but make the request below.\n",
    "\n",
    "Use the `requests` library ([documentation here](https://requests.readthedocs.io/en/master/user/quickstart/#make-a-request)).\n",
    "\n",
    "You'll also need an API key from Yelp. If you haven't done this already, go to the Yelp [Manage App page](https://www.yelp.com/developers/v3/manage_app) and create a new app (after making an account if you haven't already)."
   ]
  },
  {
   "cell_type": "code",
   "execution_count": 4,
   "metadata": {},
   "outputs": [],
   "source": [
    "# Replace None with appropriate code\n",
    "\n",
    "# Import the requests library\n",
    "import requests\n",
    "import json\n",
    "\n",
    "def get_keys(path):\n",
    "    with open(path) as f:\n",
    "        return json.load(f)\n",
    "keys = get_keys(\"/Users/james/.secret/yelp_api.json\")\n",
    "\n",
    "api_key = keys['api_key']"
   ]
  },
  {
   "cell_type": "code",
   "execution_count": 6,
   "metadata": {},
   "outputs": [
    {
     "data": {
      "text/plain": [
       "<Response [200]>"
      ]
     },
     "execution_count": 6,
     "metadata": {},
     "output_type": "execute_result"
    }
   ],
   "source": [
    "term = 'Indian'\n",
    "location = 'London'\n",
    "\n",
    "# Set up params for request\n",
    "url = \"https://api.yelp.com/v3/businesses/search\"\n",
    "headers = {\n",
    "    \"Authorization\": \"Bearer {}\".format(api_key)\n",
    "}\n",
    "url_params = {\n",
    "    \"term\": term.replace(\" \", \"+\"),\n",
    "    \"location\": location.replace(\" \", \"+\")\n",
    "}\n",
    "\n",
    "\n",
    "response = requests.get(url, headers=headers, params=url_params)\n",
    "\n",
    "# Confirm we got a 200 response\n",
    "response"
   ]
  },
  {
   "cell_type": "code",
   "execution_count": 7,
   "metadata": {},
   "outputs": [
    {
     "data": {
      "text/plain": [
       "dict_keys(['businesses', 'total', 'region'])"
      ]
     },
     "execution_count": 7,
     "metadata": {},
     "output_type": "execute_result"
    }
   ],
   "source": [
    "# Run this cell without changes\n",
    "\n",
    "# Get the response body in JSON format\n",
    "response_json = response.json()\n",
    "# View the keys\n",
    "response_json.keys()"
   ]
  },
  {
   "cell_type": "markdown",
   "metadata": {},
   "source": [
    "### Extracting Data\n",
    "\n",
    "Now, retrieve the value associated with the `'businesses'` key, and inspect its contents."
   ]
  },
  {
   "cell_type": "code",
   "execution_count": 8,
   "metadata": {},
   "outputs": [
    {
     "data": {
      "text/plain": [
       "[{'id': 'oK_SLmmAVQg3meguh7LrIA',\n",
       "  'alias': 'dishoom-london',\n",
       "  'name': 'Dishoom',\n",
       "  'image_url': 'https://s3-media2.fl.yelpcdn.com/bphoto/4HC2FmxHZYzxqlqiRaeKCQ/o.jpg',\n",
       "  'is_closed': False,\n",
       "  'url': 'https://www.yelp.com/biz/dishoom-london?adjust_creative=UwY1Kc_Ax-unjcIXN350Wg&utm_campaign=yelp_api_v3&utm_medium=api_v3_business_search&utm_source=UwY1Kc_Ax-unjcIXN350Wg',\n",
       "  'review_count': 1855,\n",
       "  'categories': [{'alias': 'indpak', 'title': 'Indian'}],\n",
       "  'rating': 4.5,\n",
       "  'coordinates': {'latitude': 51.512447030091, 'longitude': -0.1269579217873},\n",
       "  'transactions': [],\n",
       "  'price': '££',\n",
       "  'location': {'address1': \"12 Upper Saint Martin's Lane\",\n",
       "   'address2': '',\n",
       "   'address3': '',\n",
       "   'city': 'London',\n",
       "   'zip_code': 'WC2H 9FB',\n",
       "   'country': 'GB',\n",
       "   'state': 'XGL',\n",
       "   'display_address': [\"12 Upper Saint Martin's Lane\",\n",
       "    'London WC2H 9FB',\n",
       "    'United Kingdom']},\n",
       "  'phone': '+442074209320',\n",
       "  'display_phone': '+44 20 7420 9320',\n",
       "  'distance': 624.1612863605939},\n",
       " {'id': 'lMVdwKmsxLgqczUXXfgqGg',\n",
       "  'alias': 'punjab-restaurant-london-2',\n",
       "  'name': 'Punjab Restaurant',\n",
       "  'image_url': 'https://s3-media1.fl.yelpcdn.com/bphoto/J87T7Ad-h53a2N0XfLauHg/o.jpg',\n",
       "  'is_closed': False,\n",
       "  'url': 'https://www.yelp.com/biz/punjab-restaurant-london-2?adjust_creative=UwY1Kc_Ax-unjcIXN350Wg&utm_campaign=yelp_api_v3&utm_medium=api_v3_business_search&utm_source=UwY1Kc_Ax-unjcIXN350Wg',\n",
       "  'review_count': 540,\n",
       "  'categories': [{'alias': 'indpak', 'title': 'Indian'},\n",
       "   {'alias': 'vegetarian', 'title': 'Vegetarian'}],\n",
       "  'rating': 4.0,\n",
       "  'coordinates': {'latitude': 51.514992, 'longitude': -0.12596},\n",
       "  'transactions': [],\n",
       "  'price': '££',\n",
       "  'location': {'address1': '80 Neal Street',\n",
       "   'address2': '',\n",
       "   'address3': '',\n",
       "   'city': 'London',\n",
       "   'zip_code': 'WC2H 9PA',\n",
       "   'country': 'GB',\n",
       "   'state': 'XGL',\n",
       "   'display_address': ['80 Neal Street', 'London WC2H 9PA', 'United Kingdom']},\n",
       "  'phone': '+442078369787',\n",
       "  'display_phone': '+44 20 7836 9787',\n",
       "  'distance': 732.0870617421288}]"
      ]
     },
     "execution_count": 8,
     "metadata": {},
     "output_type": "execute_result"
    }
   ],
   "source": [
    "# Replace None with appropriate code\n",
    "\n",
    "# Retrieve the value from response_json\n",
    "businesses = response_json['businesses']\n",
    "\n",
    "# View the first 2 records\n",
    "businesses[:2]"
   ]
  },
  {
   "cell_type": "markdown",
   "metadata": {},
   "source": [
    "### Preparing Data\n",
    "\n",
    "Write a function `prepare_data` that takes in a list of dictionaries like `businesses` and returns a copy that has been prepared for analysis:\n",
    "\n",
    "1. The `coordinates` key-value pair has been converted into two separate key-value pairs, `latitude` and `longitude`\n",
    "2. All other key-value pairs except for `name`, `review_count`, `rating`, and `price` have been dropped\n",
    "3. All dictionaries missing one of the relevant keys or containing null values have been dropped\n",
    "\n",
    "In other words, the final keys for each dictionary should be `name`, `review_count`, `rating`, `price`, `latitude`, and `longitude`.\n",
    "\n",
    "Complete the function in the cell below:"
   ]
  },
  {
   "cell_type": "code",
   "execution_count": 10,
   "metadata": {},
   "outputs": [
    {
     "data": {
      "text/plain": [
       "[{'name': 'Dishoom',\n",
       "  'review_count': 1855,\n",
       "  'rating': 4.5,\n",
       "  'price': '££',\n",
       "  'latitude': 51.512447030091,\n",
       "  'longitude': -0.1269579217873},\n",
       " {'name': 'Punjab Restaurant',\n",
       "  'review_count': 540,\n",
       "  'rating': 4.0,\n",
       "  'price': '££',\n",
       "  'latitude': 51.514992,\n",
       "  'longitude': -0.12596},\n",
       " {'name': 'Tayyabs',\n",
       "  'review_count': 683,\n",
       "  'rating': 4.0,\n",
       "  'price': '££',\n",
       "  'latitude': 51.5172233660434,\n",
       "  'longitude': -0.0633161000573224},\n",
       " {'name': 'Dishoom',\n",
       "  'review_count': 551,\n",
       "  'rating': 4.5,\n",
       "  'price': '££',\n",
       "  'latitude': 51.513087,\n",
       "  'longitude': -0.139767},\n",
       " {'name': 'Gunpowder',\n",
       "  'review_count': 46,\n",
       "  'rating': 4.5,\n",
       "  'price': '££',\n",
       "  'latitude': 51.5181641,\n",
       "  'longitude': -0.0749311}]"
      ]
     },
     "execution_count": 10,
     "metadata": {},
     "output_type": "execute_result"
    }
   ],
   "source": [
    "# Replace None with appropriate code\n",
    "\n",
    "def prepare_data(data_list):\n",
    "   \n",
    "    # Make a new list to hold results\n",
    "    results = []\n",
    "    \n",
    "    for business_data in data_list:\n",
    "        prepared_data = {}\n",
    "        \n",
    "        for k in (\"name\", \"review_count\", \"rating\", \"price\"):\n",
    "            prepared_data[k] = business_data.get(k, None)\n",
    "\n",
    "        prepared_data['latitude'] = business_data['coordinates']['latitude']\n",
    "        prepared_data['longitude'] = business_data['coordinates']['longitude']\n",
    "\n",
    "        if all(prepared_data.values()):\n",
    "            results.append(prepared_data)\n",
    "    \n",
    "    return results\n",
    "    \n",
    "# Test out function\n",
    "prepared_businesses = prepare_data(businesses)\n",
    "prepared_businesses[:5]"
   ]
  },
  {
   "cell_type": "markdown",
   "metadata": {},
   "source": [
    "Check that your function created the correct keys:"
   ]
  },
  {
   "cell_type": "code",
   "execution_count": 11,
   "metadata": {},
   "outputs": [],
   "source": [
    "# Run this cell without changes\n",
    "\n",
    "assert sorted(list(prepared_businesses[0].keys())) == ['latitude', 'longitude', 'name', 'price', 'rating', 'review_count']"
   ]
  },
  {
   "cell_type": "markdown",
   "metadata": {},
   "source": [
    "The following code will differ depending on your query, but we expect there to be 20 businesses in the original list, and potentially fewer in the prepared list (if any of them were missing data):"
   ]
  },
  {
   "cell_type": "code",
   "execution_count": 12,
   "metadata": {},
   "outputs": [
    {
     "name": "stdout",
     "output_type": "stream",
     "text": [
      "Original: 20\n",
      "Prepared: 16\n"
     ]
    }
   ],
   "source": [
    "# Run this cell without changes\n",
    "print(\"Original:\", len(businesses))\n",
    "print(\"Prepared:\", len(prepared_businesses))"
   ]
  },
  {
   "cell_type": "markdown",
   "metadata": {},
   "source": [
    "Great! We will reuse this function once we have retrieved the full dataset."
   ]
  },
  {
   "cell_type": "markdown",
   "metadata": {},
   "source": [
    "## 2. Add Pagination\n",
    "\n",
    "Now that you are able to extract information from one page of the response, let's figure out how to request as many pages as possible.\n",
    "\n",
    "### Determining the Total\n",
    "\n",
    "Depending on the number of total results for your query, you will either retrieve all of the results, or just the first 1000 (if there are more than 1000 total).\n",
    "\n",
    "We can find the total number of results using the `\"total\"` key:"
   ]
  },
  {
   "cell_type": "code",
   "execution_count": 13,
   "metadata": {},
   "outputs": [
    {
     "data": {
      "text/plain": [
       "1700"
      ]
     },
     "execution_count": 13,
     "metadata": {},
     "output_type": "execute_result"
    }
   ],
   "source": [
    "# Run this cell without changes\n",
    "response_json[\"total\"]"
   ]
  },
  {
   "cell_type": "markdown",
   "metadata": {},
   "source": [
    "(This is specific to the implementation of the Yelp API. Some APIs will just tell you that there are more pages, or will tell you the number of pages total, rather than the total number of results. If you're not sure, always check the documentation.)\n",
    "\n",
    "In the cell below, assign the variable `total` to either the value shown above (if it is less than 1000), or 1000."
   ]
  },
  {
   "cell_type": "code",
   "execution_count": 23,
   "metadata": {},
   "outputs": [],
   "source": [
    "# Replace None with appropriate code\n",
    "total = 1000"
   ]
  },
  {
   "cell_type": "markdown",
   "metadata": {},
   "source": [
    "### Calculating the Offsets\n",
    "\n",
    "The documentation states in the parameters section:\n",
    "\n",
    "> **Name**: `limit`, **Type:** int, **Description:** Optional. Number of business results to return. By default, it will return 20. Maximum is 50.\n",
    "\n",
    "> **Name**: `offset`, **Type:** int, **Description:** Optional. Offset the list of returned business results by this amount.\n",
    "\n",
    "So, to get the most results with the fewest API calls we want to set a limit of 50 every time. If, say, we wanted to get 210 total results, that would mean:\n",
    "\n",
    "1. Offset of `0` (first 50 records)\n",
    "2. Offset of `50` (second 50 records)\n",
    "3. Offset of `100` (third 50 records)\n",
    "4. Offset of `150` (fourth 50 records)\n",
    "5. Offset of `200` (final 10 records)\n",
    "\n",
    "In the cell below, create a function `get_offsets` that takes in a total and returns a list of offsets for that total. You can assume that there is a limit of 50 every time.\n",
    "\n",
    "*Hint: you can use `range` ([documentation here](https://docs.python.org/3.3/library/stdtypes.html?highlight=range#range)) to do this in one line of code. Just make the returned result is a list.*"
   ]
  },
  {
   "cell_type": "code",
   "execution_count": 24,
   "metadata": {},
   "outputs": [],
   "source": [
    "# Replace None with appropriate code\n",
    "def get_offsets(total):\n",
    "    return list(range(0, total, 50))"
   ]
  },
  {
   "cell_type": "markdown",
   "metadata": {},
   "source": [
    "Check that your function works below:"
   ]
  },
  {
   "cell_type": "code",
   "execution_count": 25,
   "metadata": {},
   "outputs": [],
   "source": [
    "# Run this cell without changes\n",
    "\n",
    "assert get_offsets(200) == [0, 50, 100, 150]\n",
    "assert get_offsets(210) == [0, 50, 100, 150, 200]"
   ]
  },
  {
   "cell_type": "markdown",
   "metadata": {},
   "source": [
    "### Putting It All Together\n",
    "\n",
    "Recall that the following variable has already been declared for you:"
   ]
  },
  {
   "cell_type": "code",
   "execution_count": 26,
   "metadata": {},
   "outputs": [
    {
     "data": {
      "text/plain": [
       "{'term': 'Indian', 'location': 'London', 'limit': 50}"
      ]
     },
     "execution_count": 26,
     "metadata": {},
     "output_type": "execute_result"
    }
   ],
   "source": [
    "# Run this cell without changes\n",
    "url_params"
   ]
  },
  {
   "cell_type": "markdown",
   "metadata": {},
   "source": [
    "We'll go ahead and also specify that the limit should be 50 every time:"
   ]
  },
  {
   "cell_type": "code",
   "execution_count": 27,
   "metadata": {},
   "outputs": [],
   "source": [
    "# Run this cell without changes\n",
    "url_params[\"limit\"] = 50"
   ]
  },
  {
   "cell_type": "markdown",
   "metadata": {},
   "source": [
    "In order to modify the offset, you'll need to add it to `url_params` with the key `\"offset\"` and whatever value is needed.\n",
    "\n",
    "In the cell below, write code that:\n",
    "\n",
    "* Creates an empty list for the full prepared dataset\n",
    "* Loops over all of the offsets from `get_offsets` and makes an API call each time with the specified offset\n",
    "* Calls `prepare_data` to get a cleaned version of the result of each API call\n",
    "* Extends the full prepared dataset list with each query's prepared dataset"
   ]
  },
  {
   "cell_type": "code",
   "execution_count": 28,
   "metadata": {},
   "outputs": [
    {
     "data": {
      "text/plain": [
       "840"
      ]
     },
     "execution_count": 28,
     "metadata": {},
     "output_type": "execute_result"
    }
   ],
   "source": [
    "full_dataset = []\n",
    "\n",
    "for offset in get_offsets(total):\n",
    "    url_params[\"offset\"] = 50\n",
    "    \n",
    "    response = requests.get(url, headers=headers, params=url_params)\n",
    "    \n",
    "    # Get the response body in JSON format\n",
    "    response_json = response.json()\n",
    "    \n",
    "    # Get the list of businesses from the response_json\n",
    "    businesses = response_json['businesses']\n",
    "    \n",
    "    # Call the prepare_data function to get a list of processed data\n",
    "    prepared_businesses = prepare_data(businesses)\n",
    "    \n",
    "    # Extend full_dataset with this list (don't append, or you'll get\n",
    "    # a list of lists instead of a flat list)\n",
    "    full_dataset.extend(prepared_businesses)\n",
    "\n",
    "# Check the length of the full dataset. It will be up to `total`,\n",
    "# potentially less if there were missing values\n",
    "len(full_dataset)"
   ]
  },
  {
   "cell_type": "markdown",
   "metadata": {},
   "source": [
    "This code may take up to a few minutes to run.\n",
    "\n",
    "If you get an error trying to get the response body in JSON format, try adding `time.sleep(1)` right after the `requests.get` line, so your code will sleep for 1 second between each API call."
   ]
  },
  {
   "cell_type": "markdown",
   "metadata": {},
   "source": [
    "## 3. Perform Exploratory Analysis\n",
    "\n",
    "Take the businesses from the previous question and do an initial exploratory analysis. We have provided some plots for you to interpret:"
   ]
  },
  {
   "cell_type": "code",
   "execution_count": 31,
   "metadata": {},
   "outputs": [
    {
     "data": {
      "image/png": "[encoded data removed]",
      "text/plain": [
       "<Figure size 1152x360 with 3 Axes>"
      ]
     },
     "metadata": {
      "needs_background": "light"
     },
     "output_type": "display_data"
    }
   ],
   "source": [
    "# Run this cell without changes\n",
    "from collections import Counter\n",
    "import matplotlib.pyplot as plt\n",
    "%matplotlib inline\n",
    "\n",
    "fig, (ax1, ax2, ax3) = plt.subplots(ncols=3, figsize=(16, 5))\n",
    "\n",
    "# Plot distribution of number of reviews\n",
    "all_review_counts = [x[\"review_count\"] for x in full_dataset]\n",
    "ax1.hist(all_review_counts)\n",
    "ax1.set_title(\"Review Count Distribution\")\n",
    "ax1.set_xlabel(\"Number of Reviews\")\n",
    "ax1.set_ylabel(\"Number of Businesses\")\n",
    "\n",
    "# Plot rating distribution\n",
    "all_ratings = [x[\"rating\"] for x in full_dataset]\n",
    "rating_counter = Counter(all_ratings)\n",
    "rating_keys = sorted(rating_counter.keys())\n",
    "ax2.bar(rating_keys, [rating_counter[key] for key in rating_keys])\n",
    "ax2.set_title(\"Rating Distribution\")\n",
    "ax2.set_xlabel(\"Rating\")\n",
    "ax2.set_ylabel(\"Number of Businesses\")\n",
    "\n",
    "# Plot price distribution\n",
    "all_prices = [x[\"price\"].replace(\"£\", r\"\\£\") for x in full_dataset]\n",
    "price_counter = Counter(all_prices)\n",
    "price_keys = sorted(price_counter.keys())\n",
    "ax3.bar(price_keys, [price_counter[key] for key in price_keys])\n",
    "ax3.set_title(\"Price Distribution\")\n",
    "ax3.set_xlabel(\"Price Category\")\n",
    "ax3.set_ylabel(\"Number of Businesses\");"
   ]
  },
  {
   "cell_type": "markdown",
   "metadata": {},
   "source": [
    "Describe the distributions displayed above and interpret them in the context of your query. (Your answer may differ from the solution branch depending on your query.)"
   ]
  },
  {
   "cell_type": "code",
   "execution_count": null,
   "metadata": {},
   "outputs": [],
   "source": [
    "# Replace None with appropriate text\n",
    "\"\"\"\n",
    "None\n",
    "\"\"\""
   ]
  },
  {
   "cell_type": "markdown",
   "metadata": {},
   "source": [
    "In the cell below, we also plot the rating distributions by price. In this setup, a price of one dollar sign is \"lower price\" and everything else is \"higher price\"."
   ]
  },
  {
   "cell_type": "code",
   "execution_count": 30,
   "metadata": {},
   "outputs": [
    {
     "data": {
      "image/png": "[encoded data removed]",
      "text/plain": [
       "<Figure size 432x288 with 1 Axes>"
      ]
     },
     "metadata": {
      "needs_background": "light"
     },
     "output_type": "display_data"
    }
   ],
   "source": [
    "# Run this cell without changes\n",
    "\n",
    "higher_price = []\n",
    "lower_price = []\n",
    "for row in full_dataset:\n",
    "    if row[\"price\"] == \"£\":\n",
    "        lower_price.append(row[\"rating\"])\n",
    "    else:\n",
    "        higher_price.append(row[\"rating\"])\n",
    "        \n",
    "fig, ax = plt.subplots()\n",
    "\n",
    "ax.hist([higher_price, lower_price], label=[\"higher price\", \"lower price\"], density=True)\n",
    "\n",
    "ax.legend();"
   ]
  },
  {
   "cell_type": "markdown",
   "metadata": {},
   "source": [
    "Is a higher price associated with a higher rating? (No need for any additional math/statistics, just interpret what you see in the plot.)"
   ]
  },
  {
   "cell_type": "code",
   "execution_count": null,
   "metadata": {},
   "outputs": [],
   "source": [
    "# Replace None with appropriate text\n",
    "\"\"\"\n",
    "None\n",
    "\"\"\""
   ]
  },
  {
   "cell_type": "markdown",
   "metadata": {},
   "source": [
    "Finally, let's look at ratings vs. review counts:"
   ]
  },
  {
   "cell_type": "code",
   "execution_count": 32,
   "metadata": {},
   "outputs": [
    {
     "data": {
      "image/png": "[encoded data removed]",
      "text/plain": [
       "<Figure size 1152x360 with 1 Axes>"
      ]
     },
     "metadata": {
      "needs_background": "light"
     },
     "output_type": "display_data"
    }
   ],
   "source": [
    "# Run this cell without changes\n",
    "fig, ax = plt.subplots(figsize=(16,5))\n",
    "\n",
    "ax.scatter(all_review_counts, all_ratings, alpha=0.2)\n",
    "ax.set_xlabel(\"Number of Reviews\")\n",
    "ax.set_ylabel(\"Rating\")\n",
    "# \"zoom in\" to a subset of review counts\n",
    "ax.set_xlim(left=0, right=1000);"
   ]
  },
  {
   "cell_type": "markdown",
   "metadata": {},
   "source": [
    "Is a higher number of reviews associated with a higher rating?"
   ]
  },
  {
   "cell_type": "code",
   "execution_count": null,
   "metadata": {},
   "outputs": [],
   "source": [
    "# Replace None with appropriate text\n",
    "\"\"\"\n",
    "None\n",
    "\"\"\""
   ]
  },
  {
   "cell_type": "markdown",
   "metadata": {},
   "source": [
    "## 4. Create a Folium Map\n",
    "\n",
    "Make a map using Folium of the businesses you retrieved. Be sure to also add popups to the markers giving some basic information such as name, rating and price.\n",
    "\n",
    "You can center the map around the latitude and longitude of the first item in `full_dataset`."
   ]
  },
  {
   "cell_type": "code",
   "execution_count": 38,
   "metadata": {},
   "outputs": [
    {
     "data": {
      "text/html": [
       "<div style=\"width:100%;\"><div style=\"position:relative;width:100%;height:0;padding-bottom:60%;\"><span style=\"color:#565656\">Make this Notebook Trusted to load map: File -> Trust Notebook</span><iframe src=\"about:blank\" style=\"position:absolute;width:100%;height:100%;left:0;top:0;border:none !important;\" data-html=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 onload=\"this.contentDocument.open();this.contentDocument.write(atob(this.getAttribute('data-html')));this.contentDocument.close();\" allowfullscreen webkitallowfullscreen mozallowfullscreen></iframe></div></div>"
      ],
      "text/plain": [
       "<folium.folium.Map at 0x2a6b4fe3d30>"
      ]
     },
     "execution_count": 38,
     "metadata": {},
     "output_type": "execute_result"
    }
   ],
   "source": [
    "import folium\n",
    "\n",
    "\n",
    "center_lat = 51.51\n",
    "center_long = -0.14\n",
    "\n",
    "# Initialize map with center lat and long\n",
    "yelp_map = folium.Map([center_lat, center_long])\n",
    "\n",
    "# Adjust this limit to see more or fewer businesses\n",
    "limit=100\n",
    "\n",
    "for business in full_dataset[:limit]:\n",
    "    lat = business['latitude']\n",
    "    long = business['longitude']\n",
    "    name = business['name']\n",
    "    rating = business['rating']\n",
    "    price = business['price']\n",
    "    details = \"{} Price: {} Rating:{}\".format(name,price,rating)\n",
    "    \n",
    "    # Create popup with relevant details\n",
    "    popup = folium.Popup(details, parse_html=True)\n",
    "    \n",
    "    # Create marker with relevant lat/long and popup\n",
    "    marker = folium.Marker(location=[lat, long], popup=popup)\n",
    "    \n",
    "    marker.add_to(yelp_map)\n",
    "    \n",
    "yelp_map"
   ]
  },
  {
   "cell_type": "markdown",
   "metadata": {},
   "source": [
    "## Summary\n",
    "\n",
    "Nice work! In this lab, you've made multiple API calls to Yelp in order to paginate through a results set, performing some basic exploratory analysis and then creating a nice interactive map to display the results using Folium! Well done!"
   ]
  }
 ],
 "metadata": {
  "kernelspec": {
   "display_name": "Python (learn-env)",
   "language": "python",
   "name": "learn-env"
  },
  "language_info": {
   "codemirror_mode": {
    "name": "ipython",
    "version": 3
   },
   "file_extension": ".py",
   "mimetype": "text/x-python",
   "name": "python",
   "nbconvert_exporter": "python",
   "pygments_lexer": "ipython3",
   "version": "3.8.5"
  },
  "toc": {
   "base_numbering": 1,
   "nav_menu": {},
   "number_sections": true,
   "sideBar": true,
   "skip_h1_title": false,
   "title_cell": "Table of Contents",
   "title_sidebar": "Contents",
   "toc_cell": false,
   "toc_position": {},
   "toc_section_display": true,
   "toc_window_display": false
  }
 },
 "nbformat": 4,
 "nbformat_minor": 2
}
